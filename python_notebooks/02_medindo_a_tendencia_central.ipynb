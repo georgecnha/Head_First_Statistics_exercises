{
 "cells": [
  {
   "cell_type": "markdown",
   "metadata": {},
   "source": [
    "# 02 - Medindo a Tendência Central\n"
   ]
  },
  {
   "cell_type": "markdown",
   "metadata": {},
   "source": [
    "            \n",
    "  <div class=\"section\" id=\"module-statistics\">\n",
    "<span id=\"statistics-mathematical-statistics-functions\"></span><h1><a class=\"reference internal\" href=\"#module-statistics\" title=\"statistics: Mathematical statistics functions\"><code class=\"xref py py-mod docutils literal notranslate\"><span class=\"pre\">statistics</span></code></a> — Funções estatísticas<a class=\"headerlink\" href=\"#module-statistics\" title=\"Link permanente para este título\">¶</a></h1>\n",
    "<div class=\"versionadded\">\n",
    "<p><span class=\"versionmodified added\">Novo na versão 3.4.</span></p>\n",
    "</div>\n",
    "<p><strong>Código-fonte:</strong> <a class=\"reference external\" href=\"https://github.com/python/cpython/tree/3.9/Lib/statistics.py\">Lib/statistics.py</a></p>\n",
    "<hr class=\"docutils\" />\n",
    "<p>Esse módulo fornece funções para o cálculo de estatísticas matemáticas de dados numéricos (para valores do tipo <a class=\"reference internal\" href=\"numbers.html#numbers.Real\" title=\"numbers.Real\"><code class=\"xref py py-class docutils literal notranslate\"><span class=\"pre\">Real</span></code></a>).</p>\n",
    "<p>O módulo não tem a intenção de ser um competidor a bibliotecas de terceiros como <a class=\"reference external\" href=\"https://numpy.org\">NumPy</a>, <a class=\"reference external\" href=\"https://www.scipy.org/\">SciPy</a>, ou pacotes proprietários de estatísticas com todos os recursos destinados a estatísticos profissionais como Minitab, SAS e Matlab. Ela destina-se ao nível de calculadoras gráficas e científicas.</p>\n",
    "<p>A menos que seja explicitamente indicado, essas funções suportam <a class=\"reference internal\" href=\"functions.html#int\" title=\"int\"><code class=\"xref py py-class docutils literal notranslate\"><span class=\"pre\">int</span></code></a>, <a class=\"reference internal\" href=\"functions.html#float\" title=\"float\"><code class=\"xref py py-class docutils literal notranslate\"><span class=\"pre\">float</span></code></a>, <a class=\"reference internal\" href=\"decimal.html#decimal.Decimal\" title=\"decimal.Decimal\"><code class=\"xref py py-class docutils literal notranslate\"><span class=\"pre\">Decimal</span></code></a> e <a class=\"reference internal\" href=\"fractions.html#fractions.Fraction\" title=\"fractions.Fraction\"><code class=\"xref py py-class docutils literal notranslate\"><span class=\"pre\">Fraction</span></code></a>. O uso com outros tipos (sejam numéricos ou não) não é atualmente suportado. Coleções com uma mistura de tipos também são indefinidas e dependentes da implementação. Se os seus dados de entrada consistem de tipos misturados, você pode usar <a class=\"reference internal\" href=\"functions.html#map\" title=\"map\"><code class=\"xref py py-func docutils literal notranslate\"><span class=\"pre\">map()</span></code></a> para garantir um resultado consistente, por exemplo <code class=\"docutils literal notranslate\"><span class=\"pre\">map(float,</span> <span class=\"pre\">dado_entrada)</span></code>.</p>\n",
    "<div class=\"section\" id=\"averages-and-measures-of-central-location\">\n",
    "<div class=\"section\" id=\"averages-and-measures-of-central-location\">\n",
    "<h2>Médias e medidas de valor central<a class=\"headerlink\" href=\"#averages-and-measures-of-central-location\" title=\"Link permanente para este título\">¶</a></h2>\n",
    "<p>Essas funções calculam a média ou o valor típico de uma população ou amostra.</p>\n",
    "<table class=\"docutils align-default\">\n",
    "<colgroup>\n",
    "<col style=\"width: 27%\" />\n",
    "<col style=\"width: 73%\" />\n",
    "</colgroup>\n",
    "<tbody>\n",
    "<tr class=\"row-odd\"><td><p><a class=\"reference internal\" href=\"#statistics.mean\" title=\"statistics.mean\"><code class=\"xref py py-func docutils literal notranslate\"><span class=\"pre\">mean()</span></code></a></p></td>\n",
    "<td><p>Média aritmética dos dados.</p></td>\n",
    "</tr>\n",
    "<tr class=\"row-even\"><td><p><a class=\"reference internal\" href=\"#statistics.fmean\" title=\"statistics.fmean\"><code class=\"xref py py-func docutils literal notranslate\"><span class=\"pre\">fmean()</span></code></a></p></td>\n",
    "<td><p>Média arimética de ponto flutuante rápida.</p></td>\n",
    "</tr>\n",
    "<tr class=\"row-odd\"><td><p><a class=\"reference internal\" href=\"#statistics.geometric_mean\" title=\"statistics.geometric_mean\"><code class=\"xref py py-func docutils literal notranslate\"><span class=\"pre\">geometric_mean()</span></code></a></p></td>\n",
    "<td><p>Média geométrica dos dados.</p></td>\n",
    "</tr>\n",
    "<tr class=\"row-even\"><td><p><a class=\"reference internal\" href=\"#statistics.harmonic_mean\" title=\"statistics.harmonic_mean\"><code class=\"xref py py-func docutils literal notranslate\"><span class=\"pre\">harmonic_mean()</span></code></a></p></td>\n",
    "<td><p>Média harmônica dos dados.</p></td>\n",
    "</tr>\n",
    "<tr class=\"row-odd\"><td><p><a class=\"reference internal\" href=\"#statistics.median\" title=\"statistics.median\"><code class=\"xref py py-func docutils literal notranslate\"><span class=\"pre\">median()</span></code></a></p></td>\n",
    "<td><p>Mediana (valor do meio) dos dados.</p></td>\n",
    "</tr>\n",
    "<tr class=\"row-even\"><td><p><a class=\"reference internal\" href=\"#statistics.median_low\" title=\"statistics.median_low\"><code class=\"xref py py-func docutils literal notranslate\"><span class=\"pre\">median_low()</span></code></a></p></td>\n",
    "<td><p>Mediana inferior dos dados.</p></td>\n",
    "</tr>\n",
    "<tr class=\"row-odd\"><td><p><a class=\"reference internal\" href=\"#statistics.median_high\" title=\"statistics.median_high\"><code class=\"xref py py-func docutils literal notranslate\"><span class=\"pre\">median_high()</span></code></a></p></td>\n",
    "<td><p>Mediana superior dos dados.</p></td>\n",
    "</tr>\n",
    "<tr class=\"row-even\"><td><p><a class=\"reference internal\" href=\"#statistics.median_grouped\" title=\"statistics.median_grouped\"><code class=\"xref py py-func docutils literal notranslate\"><span class=\"pre\">median_grouped()</span></code></a></p></td>\n",
    "<td><p>Mediana, ou o 50º percentil dos dados agrupados.</p></td>\n",
    "</tr>\n",
    "<tr class=\"row-odd\"><td><p><a class=\"reference internal\" href=\"#statistics.mode\" title=\"statistics.mode\"><code class=\"xref py py-func docutils literal notranslate\"><span class=\"pre\">mode()</span></code></a></p></td>\n",
    "<td><p>Moda (valor mais comum) de dados discretos ou nominais.</p></td>\n",
    "</tr>\n",
    "<tr class=\"row-even\"><td><p><a class=\"reference internal\" href=\"#statistics.multimode\" title=\"statistics.multimode\"><code class=\"xref py py-func docutils literal notranslate\"><span class=\"pre\">multimode()</span></code></a></p></td>\n",
    "<td><p>Lista de modas (valores mais comuns) de dados discretos ou nominais.</p></td>\n",
    "</tr>\n",
    "<tr class=\"row-odd\"><td><p><a class=\"reference internal\" href=\"#statistics.quantiles\" title=\"statistics.quantiles\"><code class=\"xref py py-func docutils literal notranslate\"><span class=\"pre\">quantiles()</span></code></a></p></td>\n",
    "<td><p>Divide os dados em intervalos com probabilidade igual.</p></td>\n",
    "</tr>\n",
    "</tbody>\n",
    "</table>\n",
    "</div>\n",
    "<div class=\"section\" id=\"measures-of-spread\">\n",
    "<h2>Medidas de espalhamento<a class=\"headerlink\" href=\"#measures-of-spread\" title=\"Link permanente para este título\">¶</a></h2>\n",
    "<p>Essas funções calculam o quanto a população ou amostra tendem a desviar dos valores típicos ou médios.</p>\n",
    "<table class=\"docutils align-default\">\n",
    "<colgroup>\n",
    "<col style=\"width: 34%\" />\n",
    "<col style=\"width: 66%\" />\n",
    "</colgroup>\n",
    "<tbody>\n",
    "<tr class=\"row-odd\"><td><p><a class=\"reference internal\" href=\"#statistics.pstdev\" title=\"statistics.pstdev\"><code class=\"xref py py-func docutils literal notranslate\"><span class=\"pre\">pstdev()</span></code></a></p></td>\n",
    "<td><p>Desvio padrão de dados populacionais.</p></td>\n",
    "</tr>\n",
    "<tr class=\"row-even\"><td><p><a class=\"reference internal\" href=\"#statistics.pvariance\" title=\"statistics.pvariance\"><code class=\"xref py py-func docutils literal notranslate\"><span class=\"pre\">pvariance()</span></code></a></p></td>\n",
    "<td><p>Variância de dados populacionais.</p></td>\n",
    "</tr>\n",
    "<tr class=\"row-odd\"><td><p><a class=\"reference internal\" href=\"#statistics.stdev\" title=\"statistics.stdev\"><code class=\"xref py py-func docutils literal notranslate\"><span class=\"pre\">stdev()</span></code></a></p></td>\n",
    "<td><p>Desvio padrão de dados amostrais.</p></td>\n",
    "</tr>\n",
    "<tr class=\"row-even\"><td><p><a class=\"reference internal\" href=\"#statistics.variance\" title=\"statistics.variance\"><code class=\"xref py py-func docutils literal notranslate\"><span class=\"pre\">variance()</span></code></a></p></td>\n",
    "<td><p>Variância de dados amostrais.</p></td>\n",
    "</tr>\n",
    "</tbody>\n",
    "</table>\n",
    "</div>"
   ]
  },
  {
   "cell_type": "markdown",
   "metadata": {},
   "source": [
    "## Média Aritmética\n",
    "\n",
    "$\\mu=\\dfrac{\\Sigma x}{n}$, ou \n",
    "\n",
    "$\\mu=\\dfrac{\\Sigma f\\times x}{\\Sigma f}$, sendo f a frequência de cada item."
   ]
  },
  {
   "cell_type": "markdown",
   "metadata": {},
   "source": [
    "### Exercício p.52\n",
    "\n",
    "Have a go at calculating the mean age of the Power Workout\n",
    "class? Here are their ages.\n",
    "\n",
    "|Age|Frequency|\n",
    "|---|---------|\n",
    "|19|1|\n",
    "|20|3|\n",
    "|21|1|\n"
   ]
  },
  {
   "cell_type": "code",
   "execution_count": 1,
   "metadata": {},
   "outputs": [
    {
     "data": {
      "text/plain": [
       "20.0"
      ]
     },
     "execution_count": 1,
     "metadata": {},
     "output_type": "execute_result"
    }
   ],
   "source": [
    "dados1= {'Age':[19,20,21],\n",
    "        'Frequency':[1,3,1]}\n",
    "\n",
    "\n",
    "def meanAges(a:list)->float:\n",
    "    \"\"\" \n",
    "A Função mede a quantidade de idades registradas e utiliza esse dado para executar\n",
    "um laço for que calcula a média. \n",
    "    \"\"\"\n",
    "    sumAges=0\n",
    "    for i in range(len(a['Age'])):  \n",
    "        sumAges += (a['Age'][i])*(a['Frequency'][i])\n",
    "    return sumAges/sum(a['Frequency'])\n",
    "\n",
    "    \n",
    "meanAges(dados1)    "
   ]
  },
  {
   "cell_type": "markdown",
   "metadata": {},
   "source": [
    "### Exercício p.55 \n",
    "Sketch the histograms for the Kung Fu and Power Workout classes. (If you need a refresher on histograms, flip back to Chapter 1.) How do the shapes of the distributions compare? Why was Clive sent to the wrong class?\n",
    "\n",
    "Power Workout Classmate Ages\n",
    "\n",
    "| **Age**       | 19 | 20 | 21 |\n",
    "|---------------|----|----|----|\n",
    "| **Frequency** | 1  | 3  | 1  |\n",
    "\n",
    "Kung Fu Classmate Ages\n",
    "\n",
    "| **Age**       | 19 | 20 | 21 | 145  |  147  | \n",
    "|---------------|----|----|----|----|----|\n",
    "| **Frequency** | 3  | 6  | 3  | 1  |  1  | \n"
   ]
  },
  {
   "cell_type": "code",
   "execution_count": 2,
   "metadata": {},
   "outputs": [],
   "source": [
    "\n",
    "AgeList = []\n",
    "\n",
    "def Agelist():\n",
    "    qAges= int (input ('Quantas idades serão digitadas? '))\n",
    "    for i in range(qAges):\n",
    "        Age= int(input(\"Digite a idade:\"))\n",
    "        frequency= int(input(\"Digite a frequência: \"))\n",
    "        for f in range(frequency):\n",
    "            AgeList.append(Age)\n",
    "    return(AgeList)\n"
   ]
  },
  {
   "cell_type": "code",
   "execution_count": 3,
   "metadata": {},
   "outputs": [],
   "source": [
    "import matplotlib.pyplot as plt"
   ]
  },
  {
   "cell_type": "code",
   "execution_count": 4,
   "metadata": {},
   "outputs": [
    {
     "data": {
      "text/plain": [
       "(array([1., 0., 0., 0., 0., 3., 0., 0., 0., 1.]),\n",
       " array([19. , 19.2, 19.4, 19.6, 19.8, 20. , 20.2, 20.4, 20.6, 20.8, 21. ]),\n",
       " <BarContainer object of 10 artists>)"
      ]
     },
     "execution_count": 4,
     "metadata": {},
     "output_type": "execute_result"
    },
    {
     "data": {
      "image/png": "[encoded data removed]",
      "text/plain": [
       "<Figure size 432x288 with 1 Axes>"
      ]
     },
     "metadata": {
      "needs_background": "light"
     },
     "output_type": "display_data"
    }
   ],
   "source": [
    "#Power Workout\n",
    "PW=[19, 20, 20, 20, 21]\n",
    "plt.hist(PW,10,rwidth=0.9)"
   ]
  },
  {
   "cell_type": "code",
   "execution_count": 5,
   "metadata": {},
   "outputs": [
    {
     "data": {
      "text/plain": [
       "(array([17.,  0.,  0.,  0.,  0.,  0.,  0.,  0.,  0.,  2.]),\n",
       " array([ 19. ,  31.8,  44.6,  57.4,  70.2,  83. ,  95.8, 108.6, 121.4,\n",
       "        134.2, 147. ]),\n",
       " <BarContainer object of 10 artists>)"
      ]
     },
     "execution_count": 5,
     "metadata": {},
     "output_type": "execute_result"
    },
    {
     "data": {
      "image/png": "[encoded data removed]",
      "text/plain": [
       "<Figure size 432x288 with 1 Axes>"
      ]
     },
     "metadata": {
      "needs_background": "light"
     },
     "output_type": "display_data"
    }
   ],
   "source": [
    "#KungFu\n",
    "KF= [19, 20, 20, 20, 21, 19, 19, 19, 20, 20, 20, 20, 20, 20, 21, 21, 21, 145, 147]\n",
    "plt.hist(KF,10,rwidth=0.9)"
   ]
  },
  {
   "cell_type": "markdown",
   "metadata": {},
   "source": [
    "## Mediana\n",
    "\n",
    "### Como Achar a mediana em três passos:\n",
    "\n",
    "1. Alinhe seus números em ordem crescente.\n",
    "2. Se você tiver um número ímpar de valores, a mediana é o valor que está no meio. Se tiver n números, o número do meio está na posição $\\frac{(n+1)}{2}$\n",
    "3. Se você tiver um número par de valores, ache a mediana somando os dois valores do meio e dividindo por 2. Ache o ponto do meio calculando $\\frac{(n+1)}{2}$. Os dois números do meio ficam dos dois lados desse ponto."
   ]
  },
  {
   "cell_type": "markdown",
   "metadata": {},
   "source": [
    "### Exercício p.63\n",
    "\n",
    "### BE the data\n",
    "\n",
    "Your job is to play like you're the data, and say what the median is for each set, whether the data is skewed, anf whether the mean is higher or lower then the median, give rasons why.\n",
    "\n",
    "\n",
    "| **Values**    | 1 | 2 | 3 | 4 | 5 | 6 | 7 | 8 |\n",
    "|---------------|---|---|---|---|---|---|---|---|\n",
    "| **Frequency** | 4 | 6 | 4 | 4 | 3 | 2 | 1 | 1 |\n",
    "\n",
    "\n",
    "\n",
    "| **Values**    | 1 | 4 | 6 | 8 | 9 |10 |11 |12 |\n",
    "|---------------|---|---|---|---|---|---|---|---|\n",
    "| **Frequency** | 1 | 1 | 2 | 3 | 4 | 4 | 5 | 5 |"
   ]
  },
  {
   "cell_type": "code",
   "execution_count": 6,
   "metadata": {},
   "outputs": [],
   "source": [
    "import statistics as stats"
   ]
  },
  {
   "cell_type": "code",
   "execution_count": 7,
   "metadata": {},
   "outputs": [
    {
     "name": "stdout",
     "output_type": "stream",
     "text": [
      "Mediana: 3\n",
      "Média: 3.44\n"
     ]
    }
   ],
   "source": [
    "\n",
    "\n",
    "V1= [1,1,1,1,2,2,2,2,2,2,3,3,3,3,4,4,4,4,5,5,5,6,6,7,8]\n",
    "\n",
    "print(f\"\"\"Mediana: {stats.median(V1)}\n",
    "Média: {stats.mean(V1)}\"\"\")\n"
   ]
  },
  {
   "cell_type": "code",
   "execution_count": 8,
   "metadata": {},
   "outputs": [
    {
     "name": "stdout",
     "output_type": "stream",
     "text": [
      "Mediana: 10\n",
      "Média: 9.28\n"
     ]
    }
   ],
   "source": [
    "V2=[1,4,6,6,8,8,8,9,9,9,9,10,10,10,10,11,11,11,11,11,12,12,12,12,12]\n",
    "\n",
    "\n",
    "print(f\"\"\"Mediana: {stats.median(V2)}\n",
    "Média: {stats.mean(V2)}\"\"\")"
   ]
  },
  {
   "cell_type": "markdown",
   "metadata": {},
   "source": [
    "## Moda\n",
    "\n",
    "A **Moda** de um conjunto de dados é o valor mais popular, o valor com a frequência mais alta.\n",
    "\n",
    "Às vezes os dados podem ter mais de um valor com a frequência mais alta, então cada um desses valores é uma moda. Se os dados parecem representar mais de uma tendência  ou conjunto de dados, podemos dar uma moda para cada conjunto. Se um conjunto de dados tiver duas modas , chamamos os dados de **bimodais**."
   ]
  },
  {
   "cell_type": "markdown",
   "metadata": {},
   "source": [
    "### Exercício p.74\n",
    "\n",
    "Find the mode for the following sets of data.\n",
    "\n",
    "\n",
    "| **Values**    | 1 | 2 | 3 | 4 | 5 | 6 | 7 | 8 |\n",
    "|---------------|---|---|---|---|---|---|---|---|\n",
    "| **Frequency** | 4 | 6 | 4 | 4 | 3 | 2 | 1 | 1 |\n",
    "\n",
    "| **Category**  | Blue | Red | Green | Pink | Yellow |\n",
    "|---------------|------|-----|-------|------|--------|\n",
    "| **Frequency** | 4    | 5   | 8     | 1    | 3      |\n",
    "\n",
    "| **Values**    | 1 | 2 | 3 | 4 | 5 |\n",
    "|---------------|---|---|---|---|---|\n",
    "| **Frequency** | 2 | 3 | 3 | 3 | 3 |\n"
   ]
  },
  {
   "cell_type": "code",
   "execution_count": 9,
   "metadata": {},
   "outputs": [],
   "source": [
    "def ListValues():\n",
    "    \"\"\"Função destinada a facilitar o preenchimento de dados e frequências.\"\"\"\n",
    "    ListV=[]\n",
    "    qValues= int (input ('Quantos valores serão digitados? '))\n",
    "    for i in range(qValues):\n",
    "        Value= int(input(\"Digite o Valor:\"))\n",
    "        frequency= int(input(\"Digite a frequência: \"))\n",
    "        for f in range(frequency):\n",
    "            ListV.append(Value)\n",
    "    return(ListV)\n",
    "\n"
   ]
  },
  {
   "cell_type": "code",
   "execution_count": 10,
   "metadata": {},
   "outputs": [],
   "source": [
    "A=[1, 1, 1, 1, 2, 2, 2, 2, 2, 2, 3, 3, 3, 3, 4, 4, 4, 4, 5, 5, 5, 6, 6, 7, 8]"
   ]
  },
  {
   "cell_type": "code",
   "execution_count": 11,
   "metadata": {},
   "outputs": [],
   "source": [
    "B=['azul',\n",
    " 'azul',\n",
    " 'azul',\n",
    " 'azul',\n",
    " 'vermelho',\n",
    " 'vermelho',\n",
    " 'verde',\n",
    " 'verde',\n",
    " 'verde',\n",
    " 'verde',\n",
    " 'verde',\n",
    " 'verde',\n",
    " 'verde',\n",
    " 'verde',\n",
    " 'rosa',\n",
    " 'amarelo',\n",
    " 'amarelo',\n",
    " 'amarelo']"
   ]
  },
  {
   "cell_type": "code",
   "execution_count": 12,
   "metadata": {},
   "outputs": [],
   "source": [
    "C= [1, 1, 2, 2, 2, 3, 3, 3, 4, 4, 4, 5, 5, 5]"
   ]
  },
  {
   "cell_type": "markdown",
   "metadata": {},
   "source": [
    "### Resolução"
   ]
  },
  {
   "cell_type": "code",
   "execution_count": 13,
   "metadata": {},
   "outputs": [
    {
     "name": "stdout",
     "output_type": "stream",
     "text": [
      "2\n"
     ]
    }
   ],
   "source": [
    "print(stats.mode(A))"
   ]
  },
  {
   "cell_type": "code",
   "execution_count": 14,
   "metadata": {},
   "outputs": [
    {
     "name": "stdout",
     "output_type": "stream",
     "text": [
      "verde\n"
     ]
    }
   ],
   "source": [
    "print(stats.mode(B))"
   ]
  },
  {
   "cell_type": "code",
   "execution_count": 15,
   "metadata": {},
   "outputs": [
    {
     "name": "stdout",
     "output_type": "stream",
     "text": [
      "Função Mode: 2\n",
      "Função MultiMode:  [2, 3, 4, 5]\n"
     ]
    }
   ],
   "source": [
    "#A função 'mode' não dá resultado satisfatório quando se tem várias modas, sendo necessária a função \"multimode\"\n",
    "print('Função Mode:', stats.mode(C)) \n",
    "\n",
    "print('Função MultiMode: ', stats.multimode(C))"
   ]
  },
  {
   "cell_type": "markdown",
   "metadata": {},
   "source": [
    "_____________________________________________________________________________________________\n",
    "\n",
    "**A Melhor resolução nesse caso é utilizar uma condicional.**"
   ]
  },
  {
   "cell_type": "code",
   "execution_count": 16,
   "metadata": {},
   "outputs": [],
   "source": [
    "def Moda(Lista):\n",
    "    import statistics as stats\n",
    "    \"\"\"Retorna a Moda ou lista de modas presente em um conjunto de valores\"\"\"\n",
    "    if len(stats.multimode(Lista))==1:\n",
    "        return stats.mode(Lista)\n",
    "    else:\n",
    "        return stats.multimode(Lista)\n",
    "    "
   ]
  },
  {
   "cell_type": "code",
   "execution_count": 17,
   "metadata": {},
   "outputs": [
    {
     "name": "stdout",
     "output_type": "stream",
     "text": [
      "2\n",
      "verde\n",
      "[2, 3, 4, 5]\n"
     ]
    }
   ],
   "source": [
    "print(Moda(A))\n",
    "\n",
    "print(Moda(B))\n",
    "\n",
    "print(Moda(C))"
   ]
  }
 ],
 "metadata": {
  "kernelspec": {
   "display_name": "Python 3 (ipykernel)",
   "language": "python",
   "name": "python3"
  },
  "language_info": {
   "codemirror_mode": {
    "name": "ipython",
    "version": 3
   },
   "file_extension": ".py",
   "mimetype": "text/x-python",
   "name": "python",
   "nbconvert_exporter": "python",
   "pygments_lexer": "ipython3",
   "version": "3.9.12"
  }
 },
 "nbformat": 4,
 "nbformat_minor": 4
}
