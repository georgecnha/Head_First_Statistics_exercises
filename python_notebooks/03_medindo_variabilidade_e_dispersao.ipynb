{
 "cells": [
  {
   "cell_type": "markdown",
   "metadata": {},
   "source": [
    "# 3 -  Medindo Variabilidade e Dispersão"
   ]
  },
  {
   "cell_type": "markdown",
   "metadata": {},
   "source": [
    "<div id=\"module-statistics\" class=\"section\"><span id=\"statistics-mathematical-statistics-functions\"></span>\n",
    "<h1><a class=\"reference internal\" title=\"statistics: Mathematical statistics functions\" href=\"#module-statistics\"><code class=\"xref py py-mod docutils literal notranslate\"><span class=\"pre\">statistics</span></code></a> &mdash; Fun&ccedil;&otilde;es estat&iacute;sticas<a class=\"headerlink\" title=\"Link permanente para este t&iacute;tulo\" href=\"#module-statistics\">&para;</a></h1>\n",
    "<div class=\"versionadded\">\n",
    "<p><span class=\"versionmodified added\">Novo na vers&atilde;o 3.4.</span></p>\n",
    "</div>\n",
    "<p><strong>C&oacute;digo-fonte:</strong> <a class=\"reference external\" href=\"https://github.com/python/cpython/tree/3.9/Lib/statistics.py\">Lib/statistics.py</a></p>\n",
    "<hr class=\"docutils\" />\n",
    "<p>Esse m&oacute;dulo fornece fun&ccedil;&otilde;es para o c&aacute;lculo de estat&iacute;sticas matem&aacute;ticas de dados num&eacute;ricos (para valores do tipo <a class=\"reference internal\" title=\"numbers.Real\" href=\"numbers.html#numbers.Real\"><code class=\"xref py py-class docutils literal notranslate\"><span class=\"pre\">Real</span></code></a>).</p>\n",
    "<p>O m&oacute;dulo n&atilde;o tem a inten&ccedil;&atilde;o de ser um competidor a bibliotecas de terceiros como <a class=\"reference external\" href=\"https://numpy.org\">NumPy</a>, <a class=\"reference external\" href=\"https://www.scipy.org/\">SciPy</a>, ou pacotes propriet&aacute;rios de estat&iacute;sticas com todos os recursos destinados a estat&iacute;sticos profissionais como Minitab, SAS e Matlab. Ela destina-se ao n&iacute;vel de calculadoras gr&aacute;ficas e cient&iacute;ficas.</p>\n",
    "<p>A menos que seja explicitamente indicado, essas fun&ccedil;&otilde;es suportam <a class=\"reference internal\" title=\"int\" href=\"functions.html#int\"><code class=\"xref py py-class docutils literal notranslate\"><span class=\"pre\">int</span></code></a>, <a class=\"reference internal\" title=\"float\" href=\"functions.html#float\"><code class=\"xref py py-class docutils literal notranslate\"><span class=\"pre\">float</span></code></a>, <a class=\"reference internal\" title=\"decimal.Decimal\" href=\"decimal.html#decimal.Decimal\"><code class=\"xref py py-class docutils literal notranslate\"><span class=\"pre\">Decimal</span></code></a> e <a class=\"reference internal\" title=\"fractions.Fraction\" href=\"fractions.html#fractions.Fraction\"><code class=\"xref py py-class docutils literal notranslate\"><span class=\"pre\">Fraction</span></code></a>. O uso com outros tipos (sejam num&eacute;ricos ou n&atilde;o) n&atilde;o &eacute; atualmente suportado. Cole&ccedil;&otilde;es com uma mistura de tipos tamb&eacute;m s&atilde;o indefinidas e dependentes da implementa&ccedil;&atilde;o. Se os seus dados de entrada consistem de tipos misturados, voc&ecirc; pode usar <a class=\"reference internal\" title=\"map\" href=\"functions.html#map\"><code class=\"xref py py-func docutils literal notranslate\"><span class=\"pre\">map()</span></code></a> para garantir um resultado consistente, por exemplo <code class=\"docutils literal notranslate\"><span class=\"pre\">map(float,</span> <span class=\"pre\">dado_entrada)</span></code>.</p>\n",
    "<div id=\"averages-and-measures-of-central-location\" class=\"section\">\n",
    "<div id=\"averages-and-measures-of-central-location\" class=\"section\">\n",
    "<h2>M&eacute;dias e medidas de valor central<a class=\"headerlink\" title=\"Link permanente para este t&iacute;tulo\" href=\"#averages-and-measures-of-central-location\">&para;</a></h2>\n",
    "<p>Essas fun&ccedil;&otilde;es calculam a m&eacute;dia ou o valor t&iacute;pico de uma popula&ccedil;&atilde;o ou amostra.</p>\n",
    "<table class=\"docutils align-default\"><colgroup> <col style=\"width: 27%;\" /> <col style=\"width: 73%;\" /> </colgroup>\n",
    "<tbody>\n",
    "<tr class=\"row-odd\">\n",
    "<td>\n",
    "<p><a class=\"reference internal\" title=\"statistics.mean\" href=\"#statistics.mean\"><code class=\"xref py py-func docutils literal notranslate\"><span class=\"pre\">mean()</span></code></a></p>\n",
    "</td>\n",
    "<td>\n",
    "<p>M&eacute;dia aritm&eacute;tica dos dados.</p>\n",
    "</td>\n",
    "</tr>\n",
    "<tr class=\"row-even\">\n",
    "<td>\n",
    "<p><a class=\"reference internal\" title=\"statistics.fmean\" href=\"#statistics.fmean\"><code class=\"xref py py-func docutils literal notranslate\"><span class=\"pre\">fmean()</span></code></a></p>\n",
    "</td>\n",
    "<td>\n",
    "<p>M&eacute;dia arim&eacute;tica de ponto flutuante r&aacute;pida.</p>\n",
    "</td>\n",
    "</tr>\n",
    "<tr class=\"row-odd\">\n",
    "<td>\n",
    "<p><a class=\"reference internal\" title=\"statistics.geometric_mean\" href=\"#statistics.geometric_mean\"><code class=\"xref py py-func docutils literal notranslate\"><span class=\"pre\">geometric_mean()</span></code></a></p>\n",
    "</td>\n",
    "<td>\n",
    "<p>M&eacute;dia geom&eacute;trica dos dados.</p>\n",
    "</td>\n",
    "</tr>\n",
    "<tr class=\"row-even\">\n",
    "<td>\n",
    "<p><a class=\"reference internal\" title=\"statistics.harmonic_mean\" href=\"#statistics.harmonic_mean\"><code class=\"xref py py-func docutils literal notranslate\"><span class=\"pre\">harmonic_mean()</span></code></a></p>\n",
    "</td>\n",
    "<td>\n",
    "<p>M&eacute;dia harm&ocirc;nica dos dados.</p>\n",
    "</td>\n",
    "</tr>\n",
    "<tr class=\"row-odd\">\n",
    "<td>\n",
    "<p><a class=\"reference internal\" title=\"statistics.median\" href=\"#statistics.median\"><code class=\"xref py py-func docutils literal notranslate\"><span class=\"pre\">median()</span></code></a></p>\n",
    "</td>\n",
    "<td>\n",
    "<p>Mediana (valor do meio) dos dados.</p>\n",
    "</td>\n",
    "</tr>\n",
    "<tr class=\"row-even\">\n",
    "<td>\n",
    "<p><a class=\"reference internal\" title=\"statistics.median_low\" href=\"#statistics.median_low\"><code class=\"xref py py-func docutils literal notranslate\"><span class=\"pre\">median_low()</span></code></a></p>\n",
    "</td>\n",
    "<td>\n",
    "<p>Mediana inferior dos dados.</p>\n",
    "</td>\n",
    "</tr>\n",
    "<tr class=\"row-odd\">\n",
    "<td>\n",
    "<p><a class=\"reference internal\" title=\"statistics.median_high\" href=\"#statistics.median_high\"><code class=\"xref py py-func docutils literal notranslate\"><span class=\"pre\">median_high()</span></code></a></p>\n",
    "</td>\n",
    "<td>\n",
    "<p>Mediana superior dos dados.</p>\n",
    "</td>\n",
    "</tr>\n",
    "<tr class=\"row-even\">\n",
    "<td>\n",
    "<p><a class=\"reference internal\" title=\"statistics.median_grouped\" href=\"#statistics.median_grouped\"><code class=\"xref py py-func docutils literal notranslate\"><span class=\"pre\">median_grouped()</span></code></a></p>\n",
    "</td>\n",
    "<td>\n",
    "<p>Mediana, ou o 50&ordm; percentil dos dados agrupados.</p>\n",
    "</td>\n",
    "</tr>\n",
    "<tr class=\"row-odd\">\n",
    "<td>\n",
    "<p><a class=\"reference internal\" title=\"statistics.mode\" href=\"#statistics.mode\"><code class=\"xref py py-func docutils literal notranslate\"><span class=\"pre\">mode()</span></code></a></p>\n",
    "</td>\n",
    "<td>\n",
    "<p>Moda (valor mais comum) de dados discretos ou nominais.</p>\n",
    "</td>\n",
    "</tr>\n",
    "<tr class=\"row-even\">\n",
    "<td>\n",
    "<p><a class=\"reference internal\" title=\"statistics.multimode\" href=\"#statistics.multimode\"><code class=\"xref py py-func docutils literal notranslate\"><span class=\"pre\">multimode()</span></code></a></p>\n",
    "</td>\n",
    "<td>\n",
    "<p>Lista de modas (valores mais comuns) de dados discretos ou nominais.</p>\n",
    "</td>\n",
    "</tr>\n",
    "<tr class=\"row-odd\">\n",
    "<td>\n",
    "<p><a class=\"reference internal\" title=\"statistics.quantiles\" href=\"#statistics.quantiles\"><code class=\"xref py py-func docutils literal notranslate\"><span class=\"pre\">quantiles()</span></code></a></p>\n",
    "</td>\n",
    "<td>\n",
    "<p>Divide os dados em intervalos com probabilidade igual.</p>\n",
    "</td>\n",
    "</tr>\n",
    "</tbody>\n",
    "</table>\n",
    "</div>\n",
    "<div id=\"measures-of-spread\" class=\"section\">\n",
    "<h2>Medidas de espalhamento<a class=\"headerlink\" title=\"Link permanente para este t&iacute;tulo\" href=\"#measures-of-spread\">&para;</a></h2>\n",
    "<p>Essas fun&ccedil;&otilde;es calculam o quanto a popula&ccedil;&atilde;o ou amostra tendem a desviar dos valores t&iacute;picos ou m&eacute;dios.</p>\n",
    "<table class=\"docutils align-default\"><colgroup> <col style=\"width: 34%;\" /> <col style=\"width: 66%;\" /> </colgroup>\n",
    "<tbody>\n",
    "<tr class=\"row-odd\">\n",
    "<td>\n",
    "<p><a class=\"reference internal\" title=\"statistics.pstdev\" href=\"#statistics.pstdev\"><code class=\"xref py py-func docutils literal notranslate\"><span class=\"pre\">pstdev()</span></code></a></p>\n",
    "</td>\n",
    "<td>\n",
    "<p>Desvio padr&atilde;o de dados populacionais.</p>\n",
    "</td>\n",
    "</tr>\n",
    "<tr class=\"row-even\">\n",
    "<td>\n",
    "<p><a class=\"reference internal\" title=\"statistics.pvariance\" href=\"#statistics.pvariance\"><code class=\"xref py py-func docutils literal notranslate\"><span class=\"pre\">pvariance()</span></code></a></p>\n",
    "</td>\n",
    "<td>\n",
    "<p>Vari&acirc;ncia de dados populacionais.</p>\n",
    "</td>\n",
    "</tr>\n",
    "<tr class=\"row-odd\">\n",
    "<td>\n",
    "<p><a class=\"reference internal\" title=\"statistics.stdev\" href=\"#statistics.stdev\"><code class=\"xref py py-func docutils literal notranslate\"><span class=\"pre\">stdev()</span></code></a></p>\n",
    "</td>\n",
    "<td>\n",
    "<p>Desvio padr&atilde;o de dados amostrais.</p>\n",
    "</td>\n",
    "</tr>\n",
    "<tr class=\"row-even\">\n",
    "<td>\n",
    "<p><a class=\"reference internal\" title=\"statistics.variance\" href=\"#statistics.variance\"><code class=\"xref py py-func docutils literal notranslate\"><span class=\"pre\">variance()</span></code></a></p>\n",
    "</td>\n",
    "<td>\n",
    "<p>Vari&acirc;ncia de dados amostrais.</p>\n",
    "</td>\n",
    "</tr>\n",
    "</tbody>\n",
    "</table>\n",
    "</div>\n",
    "</div>\n",
    "</div>"
   ]
  },
  {
   "cell_type": "markdown",
   "metadata": {},
   "source": [
    "## Amplitude\n",
    "\n",
    "\n",
    "\n",
    "A amplitude é uma forma de medir a dispers]ao de um cojunto de dados. Ela é dada por\n",
    "\n",
    "    Limite superior - Limite inferior\n",
    "    \n",
    "onde o limite superior é o maior valor, e o inferior é o menor valor.\n",
    "\n",
    "A amplitude diz a distância existente entre o valor mais baixo e o mais alto, mas isso é tudo. Ela só descreve a \"largura\" dos dados. É impossível dizer o exato aspecto daqueles dados -- e se eles contém valores discrepantes."
   ]
  },
  {
   "cell_type": "markdown",
   "metadata": {},
   "source": [
    "### Exercício p. 87\n",
    "\n",
    "Work out the mean, lower bound, upper bound and range for the following sets of data, and sketch the charts.  Are values dispersed in the same way? Does the range help us describe these differences?\n",
    "\n",
    "|**Score**    | 8 | 9 |10 |11 |12 |\n",
    "|-------------|---|---|---|---|---|\n",
    "|**Frequency**|1  |2  |3  |2  |1  | \n",
    "\n",
    "|**Score**    | 8 | 9 |10 |11 |12 |\n",
    "|-------------|---|---|---|---|---|\n",
    "|**Frequency**|1  |0  |8  |0  |1  | "
   ]
  },
  {
   "cell_type": "code",
   "execution_count": 2,
   "metadata": {},
   "outputs": [],
   "source": [
    "def ListValues():\n",
    "    \"\"\"Função destinada a facilitar o preenchimento de dados e frequências.\"\"\"\n",
    "    ListV=[]\n",
    "    qValues= int (input ('Quantos valores serão digitados? '))\n",
    "    for i in range(qValues):\n",
    "        Value= int(input(\"Digite o Valor: \"))\n",
    "        frequency= int(input(\"Digite a frequência: \"))\n",
    "        for f in range(frequency):\n",
    "            ListV.append(Value)\n",
    "    return(ListV)"
   ]
  },
  {
   "cell_type": "markdown",
   "metadata": {},
   "source": [
    "**O primeiro conjunto de dados:**\n"
   ]
  },
  {
   "cell_type": "code",
   "execution_count": 3,
   "metadata": {},
   "outputs": [],
   "source": [
    "#Lista A\n",
    "\n",
    "A= [8, 9, 9, 10, 10, 10, 11, 11, 12]\n"
   ]
  },
  {
   "cell_type": "code",
   "execution_count": 4,
   "metadata": {},
   "outputs": [
    {
     "name": "stdout",
     "output_type": "stream",
     "text": [
      "Limite inferior:  8\n",
      "Limite superior:  12\n",
      "Média (μ)  10\n",
      "Amplitude:  4\n"
     ]
    }
   ],
   "source": [
    "import statistics as stats\n",
    "print('Limite inferior: ', min(A))\n",
    "print('Limite superior: ', max(A))\n",
    "print('Média (\\u03BC) ', stats.mean(A))\n",
    "print('Amplitude: ', max(A)-min(A))"
   ]
  },
  {
   "cell_type": "markdown",
   "metadata": {},
   "source": [
    "**O segundo conjunto de dados:**"
   ]
  },
  {
   "cell_type": "code",
   "execution_count": 5,
   "metadata": {},
   "outputs": [],
   "source": [
    "B=[8, 10, 10, 10, 10, 10, 10, 10, 10, 12]"
   ]
  },
  {
   "cell_type": "code",
   "execution_count": 6,
   "metadata": {},
   "outputs": [
    {
     "name": "stdout",
     "output_type": "stream",
     "text": [
      "Limite inferior:  8\n",
      "Limite superior:  12\n",
      "Média (μ) :  10\n",
      "Amplitude:  4\n"
     ]
    }
   ],
   "source": [
    "\n",
    "print('Limite inferior: ', min(B))\n",
    "print('Limite superior: ', max(B))\n",
    "print('Média (\\u03BC) : ', stats.mean(B))\n",
    "print('Amplitude: ', max(B)-min(B))"
   ]
  },
  {
   "cell_type": "code",
   "execution_count": 7,
   "metadata": {},
   "outputs": [],
   "source": [
    "import pandas as pd\n",
    "AA=pd.DataFrame(A)\n",
    "BB=pd.DataFrame(B)"
   ]
  },
  {
   "cell_type": "code",
   "execution_count": 8,
   "metadata": {},
   "outputs": [
    {
     "data": {
      "text/html": [
       "<div>\n",
       "<style scoped>\n",
       "    .dataframe tbody tr th:only-of-type {\n",
       "        vertical-align: middle;\n",
       "    }\n",
       "\n",
       "    .dataframe tbody tr th {\n",
       "        vertical-align: top;\n",
       "    }\n",
       "\n",
       "    .dataframe thead th {\n",
       "        text-align: right;\n",
       "    }\n",
       "</style>\n",
       "<table border=\"1\" class=\"dataframe\">\n",
       "  <thead>\n",
       "    <tr style=\"text-align: right;\">\n",
       "      <th></th>\n",
       "      <th>0</th>\n",
       "    </tr>\n",
       "  </thead>\n",
       "  <tbody>\n",
       "    <tr>\n",
       "      <th>count</th>\n",
       "      <td>9.000000</td>\n",
       "    </tr>\n",
       "    <tr>\n",
       "      <th>mean</th>\n",
       "      <td>10.000000</td>\n",
       "    </tr>\n",
       "    <tr>\n",
       "      <th>std</th>\n",
       "      <td>1.224745</td>\n",
       "    </tr>\n",
       "    <tr>\n",
       "      <th>min</th>\n",
       "      <td>8.000000</td>\n",
       "    </tr>\n",
       "    <tr>\n",
       "      <th>25%</th>\n",
       "      <td>9.000000</td>\n",
       "    </tr>\n",
       "    <tr>\n",
       "      <th>50%</th>\n",
       "      <td>10.000000</td>\n",
       "    </tr>\n",
       "    <tr>\n",
       "      <th>75%</th>\n",
       "      <td>11.000000</td>\n",
       "    </tr>\n",
       "    <tr>\n",
       "      <th>max</th>\n",
       "      <td>12.000000</td>\n",
       "    </tr>\n",
       "  </tbody>\n",
       "</table>\n",
       "</div>"
      ],
      "text/plain": [
       "               0\n",
       "count   9.000000\n",
       "mean   10.000000\n",
       "std     1.224745\n",
       "min     8.000000\n",
       "25%     9.000000\n",
       "50%    10.000000\n",
       "75%    11.000000\n",
       "max    12.000000"
      ]
     },
     "execution_count": 8,
     "metadata": {},
     "output_type": "execute_result"
    }
   ],
   "source": [
    "AA.describe()"
   ]
  },
  {
   "cell_type": "code",
   "execution_count": 9,
   "metadata": {},
   "outputs": [
    {
     "data": {
      "text/html": [
       "<div>\n",
       "<style scoped>\n",
       "    .dataframe tbody tr th:only-of-type {\n",
       "        vertical-align: middle;\n",
       "    }\n",
       "\n",
       "    .dataframe tbody tr th {\n",
       "        vertical-align: top;\n",
       "    }\n",
       "\n",
       "    .dataframe thead th {\n",
       "        text-align: right;\n",
       "    }\n",
       "</style>\n",
       "<table border=\"1\" class=\"dataframe\">\n",
       "  <thead>\n",
       "    <tr style=\"text-align: right;\">\n",
       "      <th></th>\n",
       "      <th>0</th>\n",
       "    </tr>\n",
       "  </thead>\n",
       "  <tbody>\n",
       "    <tr>\n",
       "      <th>count</th>\n",
       "      <td>10.000000</td>\n",
       "    </tr>\n",
       "    <tr>\n",
       "      <th>mean</th>\n",
       "      <td>10.000000</td>\n",
       "    </tr>\n",
       "    <tr>\n",
       "      <th>std</th>\n",
       "      <td>0.942809</td>\n",
       "    </tr>\n",
       "    <tr>\n",
       "      <th>min</th>\n",
       "      <td>8.000000</td>\n",
       "    </tr>\n",
       "    <tr>\n",
       "      <th>25%</th>\n",
       "      <td>10.000000</td>\n",
       "    </tr>\n",
       "    <tr>\n",
       "      <th>50%</th>\n",
       "      <td>10.000000</td>\n",
       "    </tr>\n",
       "    <tr>\n",
       "      <th>75%</th>\n",
       "      <td>10.000000</td>\n",
       "    </tr>\n",
       "    <tr>\n",
       "      <th>max</th>\n",
       "      <td>12.000000</td>\n",
       "    </tr>\n",
       "  </tbody>\n",
       "</table>\n",
       "</div>"
      ],
      "text/plain": [
       "               0\n",
       "count  10.000000\n",
       "mean   10.000000\n",
       "std     0.942809\n",
       "min     8.000000\n",
       "25%    10.000000\n",
       "50%    10.000000\n",
       "75%    10.000000\n",
       "max    12.000000"
      ]
     },
     "execution_count": 9,
     "metadata": {},
     "output_type": "execute_result"
    }
   ],
   "source": [
    "BB.describe()"
   ]
  },
  {
   "cell_type": "code",
   "execution_count": 10,
   "metadata": {},
   "outputs": [],
   "source": [
    "AAD = AA.describe()"
   ]
  },
  {
   "cell_type": "code",
   "execution_count": 11,
   "metadata": {},
   "outputs": [
    {
     "data": {
      "text/plain": [
       "0    9.0\n",
       "Name: count, dtype: float64"
      ]
     },
     "execution_count": 11,
     "metadata": {},
     "output_type": "execute_result"
    }
   ],
   "source": [
    "AAD.loc['count']"
   ]
  },
  {
   "cell_type": "code",
   "execution_count": 12,
   "metadata": {},
   "outputs": [
    {
     "data": {
      "text/plain": [
       "1.224744871391589"
      ]
     },
     "execution_count": 12,
     "metadata": {},
     "output_type": "execute_result"
    }
   ],
   "source": [
    "(AAD.loc['std'])[0]"
   ]
  },
  {
   "cell_type": "code",
   "execution_count": 13,
   "metadata": {},
   "outputs": [
    {
     "data": {
      "text/plain": [
       "numpy.float64"
      ]
     },
     "execution_count": 13,
     "metadata": {},
     "output_type": "execute_result"
    }
   ],
   "source": [
    "type((AAD.loc['std'])[0])"
   ]
  },
  {
   "cell_type": "markdown",
   "metadata": {},
   "source": [
    "# Quartis"
   ]
  },
  {
   "cell_type": "markdown",
   "metadata": {},
   "source": [
    "Uma forma de criar uma miniamplitude é usar valores em torno do centro dos dados. Podemos criar uma amplitude alinhando, primeiramente, os valores em ordem crescente e, em seguida, dividindo os dados em quatro pedaços de igual tamanho, onde cada pedaço contém **um quarto** dos dados.\n",
    "\n",
    "Podemos criar uma amplitude usando os valores que caem entre os dois grupos das extremidades:"
   ]
  },
  {
   "attachments": {
    "image.png": {
     "image/png": "[encoded data removed]"
    }
   },
   "cell_type": "markdown",
   "metadata": {},
   "source": [
    "![pictures/03_quartis.png](attachment:image.png)"
   ]
  },
  {
   "cell_type": "markdown",
   "metadata": {},
   "source": [
    "Os valores que dividem os dados em pedaços iguais são conhecidos como **quartis**, pois dividem os dados em quartos. Achar os quartis é como achar a mediana. Em vez de achar o valor que divide os dados ao meio, estamos achando os valores que dividem os dados em quartos.\n",
    "\n",
    "O quartil mais baixo é conhecido como **quartil inferior**, ou primeiro quartil (Q1), e o quartil mais alto é conhecido como **quartil superior**, ou terceiro quartil (Q3). O quartil do meio (Q2) é a mediana, pois ele divide os dados ao meio. A amplitude nesses dois quartis é chamada de **amplitude interquartílica** (AIQ)."
   ]
  },
  {
   "cell_type": "markdown",
   "metadata": {},
   "source": [
    "### Achando a posição do quartil inferior\n",
    "\n",
    "**1.** Primeiro, comece calculando $n\\div 4$.\n",
    "\n",
    "**2.** Se o resultado for um número inteiro, então o quartil inferior está posicionado no meio do caminho entre essa posição e a próxima. Calcule a média dos números nessas duas posições  para obter seu quartil inferior.\n",
    "\n",
    "**3.** Se $n\\div 4$ não for um número inteiro, arredonde o resultado. Assim, você terá a posição do quartil inferior.\n",
    "\n",
    "### Achando a posição do quartil superior\n",
    "\n",
    "**1.** Primeiro, comece calculando $3n\\div 4$.\n",
    "\n",
    "**2.** Se o resultado for um número inteiro, então o quartil inferior está posicionado no meio do caminho entre essa posição e a próxima. Calcule a média dos números nessas duas posições  para obter seu quartil superior.\n",
    "\n",
    "**3.** Se $3n\\div 4$ não for um número inteiro, arredonde o resultado. Assim, você terá a posição do quartil superior."
   ]
  },
  {
   "cell_type": "markdown",
   "metadata": {},
   "source": [
    "### Exercício p.95\n",
    "\n",
    "It's time to put your quartile skills into practice. Here are the scores for one of the players:\n",
    "\n",
    "|Points scored per game|3 |6 |7 |10|11|13|30|\n",
    "|----------------------|--|--|--|--|--|--|--|\n",
    "|Frequency             |2 |1 |2 |3 |1 |1 |1 |\n",
    "\n",
    "1. What's the range of this set of data?\n",
    "2. What are the lower and upper quartiles?\n",
    "3. What's the interquartile range?"
   ]
  },
  {
   "cell_type": "code",
   "execution_count": 14,
   "metadata": {},
   "outputs": [],
   "source": [
    "E95=[3, 3, 6, 7, 7, 10, 10, 10, 11, 13, 30]"
   ]
  },
  {
   "cell_type": "code",
   "execution_count": 15,
   "metadata": {},
   "outputs": [
    {
     "name": "stdout",
     "output_type": "stream",
     "text": [
      "A amplitude é:  27\n"
     ]
    }
   ],
   "source": [
    "#Amplitude\n",
    "\n",
    "print('A amplitude é: ', (max(E95)-min(E95)))"
   ]
  },
  {
   "cell_type": "code",
   "execution_count": 16,
   "metadata": {},
   "outputs": [
    {
     "data": {
      "text/plain": [
       "2.75"
      ]
     },
     "execution_count": 16,
     "metadata": {},
     "output_type": "execute_result"
    }
   ],
   "source": [
    "#Quartil inferior \n",
    "\n",
    "len(E95)/4"
   ]
  },
  {
   "cell_type": "markdown",
   "metadata": {},
   "source": [
    "Logo o quartil inferior de encontra na posição 3:"
   ]
  },
  {
   "cell_type": "code",
   "execution_count": 17,
   "metadata": {},
   "outputs": [
    {
     "name": "stdout",
     "output_type": "stream",
     "text": [
      "Q1 =  6\n"
     ]
    }
   ],
   "source": [
    " Q1 = (sorted(E95))[2]\n",
    "\n",
    "print(\"Q1 = \", Q1)"
   ]
  },
  {
   "cell_type": "code",
   "execution_count": 18,
   "metadata": {},
   "outputs": [
    {
     "data": {
      "text/plain": [
       "8.25"
      ]
     },
     "execution_count": 18,
     "metadata": {},
     "output_type": "execute_result"
    }
   ],
   "source": [
    "#Quartil superior\n",
    "\n",
    "(3*len(E95))/4"
   ]
  },
  {
   "cell_type": "markdown",
   "metadata": {},
   "source": [
    "Logo, o quartil inferior se encontra na posição 9:"
   ]
  },
  {
   "cell_type": "code",
   "execution_count": 19,
   "metadata": {},
   "outputs": [
    {
     "name": "stdout",
     "output_type": "stream",
     "text": [
      "Q3 =  11\n"
     ]
    }
   ],
   "source": [
    " Q3= (sorted (E95)) [8]\n",
    "\n",
    "print('Q3 = ', Q3)"
   ]
  },
  {
   "cell_type": "code",
   "execution_count": 20,
   "metadata": {},
   "outputs": [
    {
     "data": {
      "text/plain": [
       "5"
      ]
     },
     "execution_count": 20,
     "metadata": {},
     "output_type": "execute_result"
    }
   ],
   "source": [
    "#Amplitude interquartílica \n",
    "\n",
    "Q3 - Q1"
   ]
  },
  {
   "cell_type": "markdown",
   "metadata": {},
   "source": [
    "#### Testando o Método describe()"
   ]
  },
  {
   "cell_type": "code",
   "execution_count": 21,
   "metadata": {},
   "outputs": [
    {
     "data": {
      "text/html": [
       "<div>\n",
       "<style scoped>\n",
       "    .dataframe tbody tr th:only-of-type {\n",
       "        vertical-align: middle;\n",
       "    }\n",
       "\n",
       "    .dataframe tbody tr th {\n",
       "        vertical-align: top;\n",
       "    }\n",
       "\n",
       "    .dataframe thead th {\n",
       "        text-align: right;\n",
       "    }\n",
       "</style>\n",
       "<table border=\"1\" class=\"dataframe\">\n",
       "  <thead>\n",
       "    <tr style=\"text-align: right;\">\n",
       "      <th></th>\n",
       "      <th>0</th>\n",
       "    </tr>\n",
       "  </thead>\n",
       "  <tbody>\n",
       "    <tr>\n",
       "      <th>count</th>\n",
       "      <td>11.000000</td>\n",
       "    </tr>\n",
       "    <tr>\n",
       "      <th>mean</th>\n",
       "      <td>10.000000</td>\n",
       "    </tr>\n",
       "    <tr>\n",
       "      <th>std</th>\n",
       "      <td>7.362065</td>\n",
       "    </tr>\n",
       "    <tr>\n",
       "      <th>min</th>\n",
       "      <td>3.000000</td>\n",
       "    </tr>\n",
       "    <tr>\n",
       "      <th>25%</th>\n",
       "      <td>6.500000</td>\n",
       "    </tr>\n",
       "    <tr>\n",
       "      <th>50%</th>\n",
       "      <td>10.000000</td>\n",
       "    </tr>\n",
       "    <tr>\n",
       "      <th>75%</th>\n",
       "      <td>10.500000</td>\n",
       "    </tr>\n",
       "    <tr>\n",
       "      <th>max</th>\n",
       "      <td>30.000000</td>\n",
       "    </tr>\n",
       "  </tbody>\n",
       "</table>\n",
       "</div>"
      ],
      "text/plain": [
       "               0\n",
       "count  11.000000\n",
       "mean   10.000000\n",
       "std     7.362065\n",
       "min     3.000000\n",
       "25%     6.500000\n",
       "50%    10.000000\n",
       "75%    10.500000\n",
       "max    30.000000"
      ]
     },
     "execution_count": 21,
     "metadata": {},
     "output_type": "execute_result"
    }
   ],
   "source": [
    "import pandas as pd\n",
    "\n",
    "DF95 = pd.DataFrame(sorted(E95))\n",
    "\n",
    "DF95.describe()"
   ]
  },
  {
   "cell_type": "markdown",
   "metadata": {},
   "source": [
    "Fica então demonstrado que o método describe() não fornece os melhores valores. Pois ao ser comparado com os dados obtidos ele não se sustenta."
   ]
  },
  {
   "cell_type": "markdown",
   "metadata": {},
   "source": [
    "#### Biblioteca Statistics"
   ]
  },
  {
   "cell_type": "code",
   "execution_count": 22,
   "metadata": {},
   "outputs": [
    {
     "data": {
      "text/plain": [
       "list"
      ]
     },
     "execution_count": 22,
     "metadata": {},
     "output_type": "execute_result"
    }
   ],
   "source": [
    "#Quartis\n",
    "S95= stats.quantiles(E95)\n",
    "type(S95)"
   ]
  },
  {
   "cell_type": "code",
   "execution_count": 23,
   "metadata": {},
   "outputs": [
    {
     "name": "stdout",
     "output_type": "stream",
     "text": [
      "Q1 (25%):  6.0\n",
      "Q2 (50%):  10.0\n",
      "Q3 (75%):  11.0\n"
     ]
    }
   ],
   "source": [
    "print('Q1 (25%): ', S95[0])\n",
    "print('Q2 (50%): ', S95[1])\n",
    "print('Q3 (75%): ', S95[2])"
   ]
  },
  {
   "cell_type": "code",
   "execution_count": 24,
   "metadata": {},
   "outputs": [
    {
     "data": {
      "text/plain": [
       "5.0"
      ]
     },
     "execution_count": 24,
     "metadata": {},
     "output_type": "execute_result"
    }
   ],
   "source": [
    "#Amplitude interquartílica\n",
    "\n",
    "S95[2]- S95[0]"
   ]
  },
  {
   "cell_type": "markdown",
   "metadata": {},
   "source": [
    "Fica comprovado que a biblioteca statistics fornece resultados compatíveis para cada quartil."
   ]
  },
  {
   "cell_type": "code",
   "execution_count": 25,
   "metadata": {},
   "outputs": [
    {
     "data": {
      "text/plain": [
       "[6.0, 10.0, 11.0]"
      ]
     },
     "execution_count": 25,
     "metadata": {},
     "output_type": "execute_result"
    }
   ],
   "source": [
    "S9= stats.quantiles(E95)\n",
    "S9\n"
   ]
  },
  {
   "cell_type": "markdown",
   "metadata": {},
   "source": [
    "## Percentis\n",
    "\n",
    "Se você dividir um conjuto de dados em porcentagens, os valores que dividen os dados são chamados de **percentis**. Podemos usar os percentis para criar uma nova amplitude chamada de **amplitude interpercentílica**.\n",
    "Percentis sçao valores que dividem os dados em percentagens da mesma forma que os que os quartis dividem os dados em quartos.\n",
    "\n",
    "O k-ésimo percentil é o valor que está a k% do início do trajeto representado pelos seus dados. Ele é representado pelos seus dados. Ele é representado por $P_k$.\n",
    "\n",
    "### Uso do percentil\n",
    "\n",
    "Embora a amplitude interpercentílica seja usada com menos frequência, os percentis são úteis para marcar e determinar postos ou posições. Eles permitem determinar quão alto um determinado valor é em relação a todos os outros. Como exemplo, suponha como alguém  lhe diga que você tirou 50 na sua prova de estatística. Apena com esse número, você não teria nenhuma ideia se realmente se saiu bem na prova com relação a outras pessoas. Mas, se lhe dissessem que o 90º percentil da prova foi 50, você saberia que sua nota foi igual ou melhor que 90% das outras pessoas.\n"
   ]
  },
  {
   "attachments": {
    "image.png": {
     "image/png": "[encoded data removed]"
    }
   },
   "cell_type": "markdown",
   "metadata": {},
   "source": [
    "![pictures/03_percentil.png](attachment:image.png)"
   ]
  },
  {
   "cell_type": "markdown",
   "metadata": {},
   "source": [
    "### Achando percentis\n",
    "\n",
    "A forma usada para achar percentis é semelhante àquela usada para achar quartis.\n",
    "\n",
    "**1.** Primeiro alinhe todos os valores em ordem crescente.\n",
    "\n",
    "**2.** Para achar a posição do k-ésimo percentil entre n-números, comece calculando $k\\left(\\frac{n}{100}\\right)$.\n",
    "\n",
    "**3.** Se você obtiver um número inteiro, seu percentil está exatamente no meio entre o valor na posição $k\\left(\\frac{n}{100}\\right)$ e o próximo número. Tire a média dos números nessas duas posições para obter seu percentil.\n",
    "\n",
    "**4.** Se $k\\left(\\frac{n}{100}\\right)$ *não* forum número inteiro, arredonde o resultado. isso lhe dá a posição do percentil."
   ]
  },
  {
   "attachments": {
    "image.png": {
     "image/png": "[encoded data removed]"
    }
   },
   "cell_type": "markdown",
   "metadata": {},
   "source": [
    "## Diagramas de caixas e hastes permitem visualizar amplitudes\n",
    "\n",
    "Existe um gráfico especializado em mostrar diferentes conjuntos de dados de forma visual. Existe um gráfico especializado em mostrar diferentes tipos de amplitude: o diagrama de **caixas e de hastes**.\n",
    "\n",
    "Esse diagrama mostra a amplitude, a amplitude interquartílica e a mediana de um conjunto de dados.\n",
    "\n",
    "![pictures/03_boxplot.png](attachment:image.png)\n"
   ]
  },
  {
   "cell_type": "markdown",
   "metadata": {},
   "source": [
    "*Lower bound*: Limite inferior\n",
    "\n",
    "*Upper bound*: Limite superior\n",
    "\n"
   ]
  },
  {
   "cell_type": "markdown",
   "metadata": {},
   "source": [
    "## Variância\n",
    "\n",
    "### Distâncias Médias\n",
    "\n",
    "Suponha que você tenha três números: 1, 2 e 9. \n"
   ]
  },
  {
   "cell_type": "code",
   "execution_count": 26,
   "metadata": {},
   "outputs": [
    {
     "name": "stdout",
     "output_type": "stream",
     "text": [
      "μ = 4\n"
     ]
    }
   ],
   "source": [
    "import statistics as stats\n",
    "print('\\u03BC =', stats.mean([1,2,9]))"
   ]
  },
  {
   "cell_type": "markdown",
   "metadata": {},
   "source": [
    "$\\textrm{Distância Média}=\\dfrac{(1\\;a\\;\\mu)+(2\\;a\\;\\mu)+(9\\;a\\;\\mu)}{3}$ \n",
    "\n",
    "$\\textrm{Distância Média}=\\dfrac{3+2+(-5)}{3} = 0$ \n",
    "\n",
    "A distância média entre os valores e a média aritmética é sempre 0. As distâncias positivas e negativas se cancelam umas às outras. Então, o que fazer agora?\n",
    "\n",
    "Fazendo a mesma coisa, mas com o quadrado das distâncias: \n",
    "\n",
    "$(\\textrm{Distância Média})^2=\\dfrac{3^2+2^2+(-5)^2}{3} = 12,67$\n",
    "\n",
    "Dessa vez o número obtido foi significativo, pois as distâncias não se cancelam.\n",
    "\n",
    "Esse método de medir a dispersão é chamado de **variância** e é bastante comum para descrever a dispersão de um conjuntos de dados."
   ]
  },
  {
   "cell_type": "markdown",
   "metadata": {},
   "source": [
    "\n",
    "**Variância** $= \\dfrac{\\Sigma(x-\\mu)^2}{n}$ ou\n",
    "\n",
    "**Variância** $= \\dfrac{(\\Sigma x^2)}{n}- \\mu^2$"
   ]
  },
  {
   "cell_type": "code",
   "execution_count": 27,
   "metadata": {},
   "outputs": [
    {
     "name": "stdout",
     "output_type": "stream",
     "text": [
      "Variância Populacional = 12.67\n",
      "Variância Amostral =  19\n"
     ]
    }
   ],
   "source": [
    "print('Variância Populacional =', round(stats.pvariance([1,2,9]),2))\n",
    "\n",
    "print('Variância Amostral = ', (stats.variance([1,2,9])))"
   ]
  },
  {
   "cell_type": "markdown",
   "metadata": {},
   "source": [
    "## Desvio-padrão\n",
    "\n",
    "O desvio-padrão é uma forma de dizer a que distância os valores típicos estão da média aritmética. O desvio-padrão é a raiz quadrada da variância. \n",
    "\n",
    "$\\sigma^2 = \\textrm{variância}$\n",
    "\n",
    "$\\sigma = \\sqrt{\\textrm{variância}}$"
   ]
  },
  {
   "cell_type": "code",
   "execution_count": 28,
   "metadata": {},
   "outputs": [
    {
     "name": "stdout",
     "output_type": "stream",
     "text": [
      "Desvio-padrão = 3.56\n"
     ]
    }
   ],
   "source": [
    "from math import sqrt\n",
    "print('Desvio-padrão =', round(sqrt(stats.pvariance([1,2,9])),2))"
   ]
  },
  {
   "cell_type": "markdown",
   "metadata": {},
   "source": [
    "___________________________\n",
    "**Exercício p.109**\n",
    "\n",
    "Calcule a média e o desvio-padrão dos seguintes conjuntos de números:\n",
    "\n",
    "1 2 3 4 5 6 7\n",
    "\n",
    "1 2 3 4 5 6"
   ]
  },
  {
   "cell_type": "code",
   "execution_count": 29,
   "metadata": {},
   "outputs": [
    {
     "name": "stdout",
     "output_type": "stream",
     "text": [
      "μ_A =  4\n",
      "σ_A =  2.0\n",
      "\n",
      "μ_B =  3.5\n",
      "σ_B =  1.71\n"
     ]
    }
   ],
   "source": [
    "import statistics as stats\n",
    "EA109=[1,2,3,4,5,6,7]\n",
    "EB109=[1,2,3,4,5,6]\n",
    "\n",
    "print('\\u03BC_A = ', stats.mean(EA109))\n",
    "print('\\u03C3_A = ', round(stats.pstdev(EA109),2)) #Nesse caso se trata de desvio-padrão populacional\n",
    "print('')\n",
    "print('\\u03BC_B = ', stats.mean(EB109))\n",
    "print('\\u03C3_B = ', round(stats.pstdev(EB109),2))\n"
   ]
  },
  {
   "cell_type": "markdown",
   "metadata": {},
   "source": [
    "### Exercício p.114\n",
    "\n",
    "### BE the coach\n",
    "\n",
    "Here are the scores for the three players. The mean for each of them is 10. Your job is to play like you're the coach and work out the standart deviation for each player. Which player is the most reliable one for your team?\n",
    "\n",
    "\n",
    "Player 1\n",
    "\n",
    "|**Score**    | 7 | 9 |10 |11 |13 |\n",
    "|-------------|---|---|---|---|---|\n",
    "|**Frequency**|1  |2  |4  |2  |1  |\n",
    "\n",
    "Player 2\n",
    "\n",
    "|**Score**    | 7 | 8 |9  |10 |11 |12 |13 |\n",
    "|-------------|---|---|---|---|---|---|---|\n",
    "|**Frequency**|1  |1  |2  |2  |2  |1  |1  |\n",
    "\n",
    "Player 3\n",
    "\n",
    "|**Score**    | 3 | 6 |7  |10 |11 |13 |30 |\n",
    "|-------------|---|---|---|---|---|---|---|\n",
    "|**Frequency**|2  |1  |2  |3  |1  |1  |1  |\n",
    "\n"
   ]
  },
  {
   "cell_type": "code",
   "execution_count": 30,
   "metadata": {},
   "outputs": [],
   "source": [
    "def ListValues():\n",
    "    \"\"\"Função destinada a facilitar o preenchimento de dados e frequências.\"\"\"\n",
    "    ListV=[]\n",
    "    qValues= int (input ('Quantos valores serão digitados? '))\n",
    "    for i in range(qValues):\n",
    "        Value= int(input(\"Digite o Valor: \"))\n",
    "        frequency= int(input(\"Digite a frequência: \"))\n",
    "        for f in range(frequency):\n",
    "            ListV.append(Value)\n",
    "    return(ListV)"
   ]
  },
  {
   "cell_type": "code",
   "execution_count": 33,
   "metadata": {},
   "outputs": [],
   "source": [
    "P1=[7, 9, 9, 10, 10, 10, 10, 11, 11, 13]"
   ]
  },
  {
   "cell_type": "code",
   "execution_count": 38,
   "metadata": {},
   "outputs": [],
   "source": [
    "P2=[7, 8, 9, 9, 10, 10, 11, 11, 12, 13]"
   ]
  },
  {
   "cell_type": "code",
   "execution_count": 37,
   "metadata": {},
   "outputs": [],
   "source": [
    "P3=[3, 3, 6, 7, 7, 10, 10, 10, 11, 13, 30]"
   ]
  },
  {
   "cell_type": "code",
   "execution_count": 39,
   "metadata": {},
   "outputs": [],
   "source": [
    "import statistics as stats"
   ]
  },
  {
   "cell_type": "code",
   "execution_count": 42,
   "metadata": {},
   "outputs": [
    {
     "name": "stdout",
     "output_type": "stream",
     "text": [
      "Desvio-padrão 1:  1.48\n",
      "Desvio-padrão 2:  1.73\n",
      "Desvio-padrão 3:  7.02\n"
     ]
    }
   ],
   "source": [
    "print('Desvio-padrão 1: ', round(stats.pstdev(P1), 2))\n",
    "print('Desvio-padrão 2: ', round(stats.pstdev(P2), 2))\n",
    "print('Desvio-padrão 3: ', round(stats.pstdev(P3), 2))"
   ]
  },
  {
   "cell_type": "markdown",
   "metadata": {},
   "source": [
    "O jogador mais confiável é o jogador 1, cujo desvio-padrão é o menor dentre os três jogadores."
   ]
  },
  {
   "cell_type": "markdown",
   "metadata": {},
   "source": [
    "## Escores padrão\n",
    "\n",
    "Os **escores padrão** (ou escores-z) fornecem uma maneira de comparar valores entre conjuntos diferentes de dados onde a média aritmética e o desvio-padão diferem. São uma forma de comparar valores de dados relacionados em circunstâncias diferentes. Como exemplo, pode ser usado para comparar o desempenho de jogadores diferentes com relação ao seu histórico pessoal -- bem semelhante ao que um *personal trainer* faria.\n",
    "\n",
    "O escore padrão possibilita essas comparações tranformando cada  conjunto de dados em uma distribuição mais genérica; Podemos achar os escores padrão de cada jogador no treino e, em seguida, transformá-los e compará-los.\n",
    "\n",
    "Os escores padrão funcionam transformando conjuntos de dados em uma nova distribuição teórica com uma média aritmética igual a 0 e um desvio padrão igual a 1. É uma distribuição genérica que pode ser utilizada para comparações. Os escores padrão transformam efetivamente seus dados para que eles se enquadrem neste modelo mantendo ao mesmo tempo  o mesmo formato básico.\n",
    "\n",
    "Os escores padrão podem assumir qualquer valor, e indicam a posição relativa à média aritmética.\n",
    "\n",
    "Às vezes, os estatísticos expressam a posição relativa de um determinado valor em termos dos **desvios-padrão com relação à média aritmética**. Como exemplo, o estatístico pode dizer que um determinado valor está dentro de 1 unidade de desvio-padrão da média aritmética. Esta é outra maneira de indicar a proximidade dos valores com relação à média aritmética.\n",
    "\n",
    "$$\\textrm{Escore Padrão}= \\textrm{número de unidades de desvio-padrão com relação à média.}$$\n",
    "\n",
    "**$$z=\\dfrac{x-\\mu}{\\sigma}$$**"
   ]
  },
  {
   "cell_type": "code",
   "execution_count": null,
   "metadata": {},
   "outputs": [],
   "source": []
  },
  {
   "cell_type": "code",
   "execution_count": null,
   "metadata": {},
   "outputs": [],
   "source": []
  },
  {
   "cell_type": "code",
   "execution_count": null,
   "metadata": {},
   "outputs": [],
   "source": []
  },
  {
   "cell_type": "code",
   "execution_count": null,
   "metadata": {},
   "outputs": [],
   "source": []
  }
 ],
 "metadata": {
  "kernelspec": {
   "display_name": "Python 3 (ipykernel)",
   "language": "python",
   "name": "python3"
  },
  "language_info": {
   "codemirror_mode": {
    "name": "ipython",
    "version": 3
   },
   "file_extension": ".py",
   "mimetype": "text/x-python",
   "name": "python",
   "nbconvert_exporter": "python",
   "pygments_lexer": "ipython3",
   "version": "3.9.12"
  }
 },
 "nbformat": 4,
 "nbformat_minor": 4
}
